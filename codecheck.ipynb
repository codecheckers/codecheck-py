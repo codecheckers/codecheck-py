{
 "cells": [
  {
   "cell_type": "markdown",
   "id": "11dcf3e9",
   "metadata": {},
   "source": [
    "Template document for [CODECHECK](https://codecheck.org.uk/)'s with a Jupyter notebook. Note that the files in this repository should be placed into a `codecheck` directory, and require a `codecheck.yml` file in the main folder (i.e. `../codecheck.yml` from the point of view of this notebook). See the [CODECHECK community process guide](https://codecheck.org.uk/guide/community-process) for more details.\n",
    "\n",
    "Note that the `{-}` at the end of the headings is necessary to avoid numbered headings in jupyter's `nbexport`."
   ]
  },
  {
   "cell_type": "code",
   "execution_count": null,
   "id": "d75b33d1",
   "metadata": {},
   "outputs": [],
   "source": [
    "# By default, this expects a file at `../codecheck.yml` -- provide a path/filename otherwise.\n",
    "check = Codecheck()"
   ]
  },
  {
   "cell_type": "code",
   "execution_count": null,
   "id": "e5893809",
   "metadata": {},
   "outputs": [],
   "source": [
    "check.title()"
   ]
  },
  {
   "cell_type": "markdown",
   "id": "60b1589a",
   "metadata": {},
   "source": [
    "## CODECHECK summary{-}"
   ]
  },
  {
   "cell_type": "code",
   "execution_count": null,
   "id": "42df69b7",
   "metadata": {},
   "outputs": [],
   "source": [
    "check.summary_table()"
   ]
  },
  {
   "cell_type": "markdown",
   "id": "db137e9a",
   "metadata": {},
   "source": [
    "## Summary of output files generated{-}"
   ]
  },
  {
   "cell_type": "code",
   "execution_count": null,
   "id": "4bdd6dcd",
   "metadata": {},
   "outputs": [],
   "source": [
    "check.files()"
   ]
  },
  {
   "cell_type": "markdown",
   "id": "b0af9cd0",
   "metadata": {},
   "source": [
    "## Summary{-}"
   ]
  },
  {
   "cell_type": "code",
   "execution_count": null,
   "id": "3d319d3a",
   "metadata": {},
   "outputs": [],
   "source": [
    "check.summary()"
   ]
  },
  {
   "cell_type": "markdown",
   "id": "be63e1d6",
   "metadata": {},
   "source": [
    "## CODECHECKER notes{-}\n",
    "\n",
    "*TODO*"
   ]
  },
  {
   "cell_type": "markdown",
   "id": "82d0bdb9",
   "metadata": {},
   "source": [
    "## Recommendations to the authors{-}\n",
    "\n",
    "*TODO*"
   ]
  },
  {
   "cell_type": "markdown",
   "id": "8fe8127b",
   "metadata": {},
   "source": [
    "## Citing this document{-}"
   ]
  },
  {
   "cell_type": "code",
   "execution_count": null,
   "id": "bbb4aec2",
   "metadata": {},
   "outputs": [],
   "source": [
    "check.citation()"
   ]
  },
  {
   "cell_type": "markdown",
   "id": "a89d2b5e",
   "metadata": {},
   "source": [
    "## About CODECHECK{-}"
   ]
  },
  {
   "cell_type": "code",
   "execution_count": null,
   "id": "400b2603",
   "metadata": {},
   "outputs": [],
   "source": [
    "check.about_codecheck()"
   ]
  },
  {
   "cell_type": "markdown",
   "id": "3f5f5d71",
   "metadata": {},
   "source": [
    "## About this document{-}\n",
    "This document was created using a [jupyter notebook](https://jupyter.org/) and converted into PDF via [nbconvert](https://nbconvert.readthedocs.io/), [pandoc](https://pandoc.org/), and [xelatex](http://xetex.sourceforge.net/). \n",
    "\n",
    "## License{-}\n",
    "The code, data, and figures created by the original authors are licensed under the ... license (see their [LICENSE file](https://github.com/codecheckers/causality-review/blob/main/LICENSE)). The content of the `codecheck` directory and this report are licensed under the ... license."
   ]
  },
  {
   "cell_type": "markdown",
   "id": "10b01948",
   "metadata": {},
   "source": [
    "## Manifest files{-}\n",
    "\n",
    "### CSV files{-}"
   ]
  },
  {
   "cell_type": "code",
   "execution_count": null,
   "id": "86962465",
   "metadata": {},
   "outputs": [],
   "source": [
    "check.csv_files(index_col=False, header=None)  # arguments for panda's read_csv function"
   ]
  },
  {
   "cell_type": "markdown",
   "id": "c1424a39",
   "metadata": {},
   "source": [
    "### Figures{-}"
   ]
  },
  {
   "cell_type": "code",
   "execution_count": null,
   "id": "fb1bccee",
   "metadata": {},
   "outputs": [],
   "source": [
    "check.latex_figures(extensions=('.pdf',))  # Manifest files to include"
   ]
  }
 ],
 "metadata": {
  "celltoolbar": "Raw Cell Format",
  "kernelspec": {
   "display_name": "Python 3",
   "language": "python",
   "name": "python3"
  },
  "language_info": {
   "codemirror_mode": {
    "name": "ipython",
    "version": 3
   },
   "file_extension": ".py",
   "mimetype": "text/x-python",
   "name": "python",
   "nbconvert_exporter": "python",
   "pygments_lexer": "ipython3",
   "version": "3.9.4"
  }
 },
 "nbformat": 4,
 "nbformat_minor": 5
}
